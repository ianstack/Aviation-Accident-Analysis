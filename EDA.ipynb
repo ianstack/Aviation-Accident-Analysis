{
 "cells": [
  {
   "cell_type": "code",
   "execution_count": 1,
   "id": "a56378c5",
   "metadata": {},
   "outputs": [],
   "source": [
    "# Imports\n",
    "import numpy as np\n",
    "import pandas as pd\n",
    "import matplotlib.pyplot as plt\n",
    "import seaborn as sns\n",
    "\n",
    "from sklearn.model_selection import train_test_split, GridSearchCV\n",
    "from sklearn.linear_model import LinearRegression\n",
    "from sklearn.preprocessing import PolynomialFeatures, StandardScaler\n",
    "from sklearn.decomposition import PCA\n",
    "from sklearn.pipeline import Pipeline\n",
    "from sklearn.ensemble import RandomForestRegressor,BaggingRegressor, AdaBoostRegressor\n",
    "from sklearn.metrics import mean_squared_error"
   ]
  },
  {
   "cell_type": "markdown",
   "id": "e5e9a982",
   "metadata": {},
   "source": [
    "# EDA"
   ]
  },
  {
   "cell_type": "code",
   "execution_count": 2,
   "id": "923dd747",
   "metadata": {},
   "outputs": [
    {
     "ename": "FileNotFoundError",
     "evalue": "[Errno 2] No such file or directory: './cm_vehicles_flattened_joined'",
     "output_type": "error",
     "traceback": [
      "\u001b[1;31m---------------------------------------------------------------------------\u001b[0m",
      "\u001b[1;31mFileNotFoundError\u001b[0m                         Traceback (most recent call last)",
      "\u001b[1;32m~\\AppData\\Local\\Temp\\ipykernel_8764\\3891211600.py\u001b[0m in \u001b[0;36m<module>\u001b[1;34m\u001b[0m\n\u001b[0;32m      2\u001b[0m \u001b[1;33m\u001b[0m\u001b[0m\n\u001b[0;32m      3\u001b[0m \u001b[1;33m\u001b[0m\u001b[0m\n\u001b[1;32m----> 4\u001b[1;33m \u001b[0munpickled\u001b[0m \u001b[1;33m=\u001b[0m \u001b[0mpd\u001b[0m\u001b[1;33m.\u001b[0m\u001b[0mread_pickle\u001b[0m\u001b[1;33m(\u001b[0m\u001b[1;34m'./cm_vehicles_flattened_joined'\u001b[0m\u001b[1;33m)\u001b[0m\u001b[1;33m\u001b[0m\u001b[1;33m\u001b[0m\u001b[0m\n\u001b[0m",
      "\u001b[1;32m~\\anaconda3\\lib\\site-packages\\pandas\\io\\pickle.py\u001b[0m in \u001b[0;36mread_pickle\u001b[1;34m(filepath_or_buffer, compression, storage_options)\u001b[0m\n\u001b[0;32m    185\u001b[0m     \"\"\"  # noqa: E501\n\u001b[0;32m    186\u001b[0m     \u001b[0mexcs_to_catch\u001b[0m \u001b[1;33m=\u001b[0m \u001b[1;33m(\u001b[0m\u001b[0mAttributeError\u001b[0m\u001b[1;33m,\u001b[0m \u001b[0mImportError\u001b[0m\u001b[1;33m,\u001b[0m \u001b[0mModuleNotFoundError\u001b[0m\u001b[1;33m,\u001b[0m \u001b[0mTypeError\u001b[0m\u001b[1;33m)\u001b[0m\u001b[1;33m\u001b[0m\u001b[1;33m\u001b[0m\u001b[0m\n\u001b[1;32m--> 187\u001b[1;33m     with get_handle(\n\u001b[0m\u001b[0;32m    188\u001b[0m         \u001b[0mfilepath_or_buffer\u001b[0m\u001b[1;33m,\u001b[0m\u001b[1;33m\u001b[0m\u001b[1;33m\u001b[0m\u001b[0m\n\u001b[0;32m    189\u001b[0m         \u001b[1;34m\"rb\"\u001b[0m\u001b[1;33m,\u001b[0m\u001b[1;33m\u001b[0m\u001b[1;33m\u001b[0m\u001b[0m\n",
      "\u001b[1;32m~\\anaconda3\\lib\\site-packages\\pandas\\io\\common.py\u001b[0m in \u001b[0;36mget_handle\u001b[1;34m(path_or_buf, mode, encoding, compression, memory_map, is_text, errors, storage_options)\u001b[0m\n\u001b[0;32m    793\u001b[0m         \u001b[1;32melse\u001b[0m\u001b[1;33m:\u001b[0m\u001b[1;33m\u001b[0m\u001b[1;33m\u001b[0m\u001b[0m\n\u001b[0;32m    794\u001b[0m             \u001b[1;31m# Binary mode\u001b[0m\u001b[1;33m\u001b[0m\u001b[1;33m\u001b[0m\u001b[0m\n\u001b[1;32m--> 795\u001b[1;33m             \u001b[0mhandle\u001b[0m \u001b[1;33m=\u001b[0m \u001b[0mopen\u001b[0m\u001b[1;33m(\u001b[0m\u001b[0mhandle\u001b[0m\u001b[1;33m,\u001b[0m \u001b[0mioargs\u001b[0m\u001b[1;33m.\u001b[0m\u001b[0mmode\u001b[0m\u001b[1;33m)\u001b[0m\u001b[1;33m\u001b[0m\u001b[1;33m\u001b[0m\u001b[0m\n\u001b[0m\u001b[0;32m    796\u001b[0m         \u001b[0mhandles\u001b[0m\u001b[1;33m.\u001b[0m\u001b[0mappend\u001b[0m\u001b[1;33m(\u001b[0m\u001b[0mhandle\u001b[0m\u001b[1;33m)\u001b[0m\u001b[1;33m\u001b[0m\u001b[1;33m\u001b[0m\u001b[0m\n\u001b[0;32m    797\u001b[0m \u001b[1;33m\u001b[0m\u001b[0m\n",
      "\u001b[1;31mFileNotFoundError\u001b[0m: [Errno 2] No such file or directory: './cm_vehicles_flattened_joined'"
     ]
    }
   ],
   "source": [
    "# From the saved pickled file from the robin_stopa.ipynb, is opened up here for further EDA\n",
    "\n",
    "\n",
    "unpickled = pd.read_pickle('./cm_vehicles_flattened_joined')\n"
   ]
  },
  {
   "cell_type": "code",
   "execution_count": null,
   "id": "ca5cfbeb",
   "metadata": {},
   "outputs": [],
   "source": [
    "# Setting this option to see all columns in pickle file\n",
    "\n",
    "\n",
    "pd.set_option('display.max_columns', 500)\n"
   ]
  },
  {
   "cell_type": "code",
   "execution_count": null,
   "id": "e336e44e",
   "metadata": {},
   "outputs": [],
   "source": [
    "unpickled"
   ]
  },
  {
   "cell_type": "markdown",
   "id": "b8d04d95",
   "metadata": {},
   "source": [
    "### lowercase "
   ]
  },
  {
   "cell_type": "code",
   "execution_count": null,
   "id": "6e13e6fd",
   "metadata": {},
   "outputs": [],
   "source": [
    "unpickled['make'] = unpickled['make'].str.lower()"
   ]
  },
  {
   "cell_type": "code",
   "execution_count": null,
   "id": "672989e1",
   "metadata": {},
   "outputs": [],
   "source": [
    "unpickled.head(10)"
   ]
  },
  {
   "cell_type": "code",
   "execution_count": null,
   "id": "4a886d2f",
   "metadata": {},
   "outputs": [],
   "source": [
    "unpickled['make'] = unpickled['make'].str.lower()"
   ]
  },
  {
   "cell_type": "code",
   "execution_count": null,
   "id": "6b42b620",
   "metadata": {
    "scrolled": true
   },
   "outputs": [],
   "source": [
    "unpickled['aircraftCategory'].value_counts()"
   ]
  },
  {
   "cell_type": "code",
   "execution_count": null,
   "id": "fde2b63e",
   "metadata": {
    "scrolled": true
   },
   "outputs": [],
   "source": [
    "unpickled['aircraftCategory'].value_counts().plot(kind='bar')\n",
    "\n",
    "# This graph below shows the what type of aircarft is most common in this dataset\n",
    "# Based off this majority of the dataset is airplanes"
   ]
  },
  {
   "cell_type": "code",
   "execution_count": null,
   "id": "4cbfd88b",
   "metadata": {},
   "outputs": [],
   "source": [
    "var = unpickled['make'].value_counts().head(10)\n",
    "var"
   ]
  },
  {
   "cell_type": "code",
   "execution_count": null,
   "id": "3384055a",
   "metadata": {
    "scrolled": true
   },
   "outputs": [],
   "source": [
    "# top 10 most popular makes of vehicles in this dataset\n",
    "# 1. Cessna\n",
    "# 2. Piper\n",
    "# 3. beech\n",
    "\n",
    "var.plot(kind='bar')"
   ]
  },
  {
   "cell_type": "code",
   "execution_count": null,
   "id": "d9b5101f",
   "metadata": {},
   "outputs": [],
   "source": [
    "# plot_2 = unpickled[unpickled.make == 'boeing']\n",
    "# plot_2.plot(kind='bar');"
   ]
  },
  {
   "cell_type": "code",
   "execution_count": null,
   "id": "8d1b5795",
   "metadata": {
    "scrolled": true
   },
   "outputs": [],
   "source": [
    "unpickled['cm_highestinjury'].value_counts()"
   ]
  },
  {
   "cell_type": "code",
   "execution_count": null,
   "id": "e3be8861",
   "metadata": {},
   "outputs": [],
   "source": [
    "plot_injury = unpickled['cm_highestinjury'].value_counts()\n",
    "\n",
    "plot_injury.plot(kind='bar', xlabel = 'Severity of Injury', ylabel = 'Count of Severity', title = 'The Count per Serverity of Injury')\n",
    "\n",
    "#This plot looks at the highestinjury column and counts, which injuries were the most common in this dataset.\n"
   ]
  },
  {
   "cell_type": "code",
   "execution_count": null,
   "id": "904a026c",
   "metadata": {},
   "outputs": [],
   "source": [
    "unpickled[unpickled.cm_highestinjury == \"Fatal\"].make.str.lower().value_counts().head(10).index"
   ]
  },
  {
   "cell_type": "code",
   "execution_count": null,
   "id": "f12cecd7",
   "metadata": {
    "scrolled": true
   },
   "outputs": [],
   "source": [
    "unpickled.make.value_counts().head(10)"
   ]
  },
  {
   "cell_type": "code",
   "execution_count": null,
   "id": "25e4d517",
   "metadata": {},
   "outputs": [],
   "source": []
  },
  {
   "cell_type": "code",
   "execution_count": null,
   "id": "d67ede40",
   "metadata": {},
   "outputs": [],
   "source": [
    "# Proportions of fatal accident per make plans\n",
    "\n",
    "# Cessna: 1066 / 7588\n",
    "# Piper: 773/ 4288\n",
    "# Beech: 445 / 1624\n",
    "# Bell: 123 / 730\n",
    "# Mooney: 112 / 425\n",
    "# Robinson: 60 / 429\n",
    "# Cirrus design corp: 58 / 170\n",
    "# North American: 44 / 131\n",
    "# Bellanca: 39 / 262\n",
    "# Hughes: 35 / 243\n"
   ]
  },
  {
   "cell_type": "code",
   "execution_count": null,
   "id": "54e6966f",
   "metadata": {},
   "outputs": [],
   "source": [
    "Ces = (1066/7588) * 100\n",
    "Pip = (773/4288) * 100\n",
    "Bee = (445/1624) * 100\n",
    "Bel = (123/730) * 100\n",
    "Moo = (112/425) * 100\n",
    "Rob = (60/429) * 100\n",
    "Cir = (58/170) * 100\n",
    "Nor = (44/131) * 100\n",
    "Bella = (39/262) * 100\n",
    "Hug = (35/243) * 100\n"
   ]
  },
  {
   "cell_type": "code",
   "execution_count": null,
   "id": "6a2aa8c4",
   "metadata": {
    "scrolled": true
   },
   "outputs": [],
   "source": [
    "df_2 = pd.DataFrame({'Make of Plane':['Cessna', 'Piper', 'Beech', 'Bell', 'Mooney', 'Robinson', 'Cirrus design corp',\n",
    "                           'North American', 'Bellanca', 'Hughes'], 'Proportion Fatal (%)':[Ces, Pip, Bee, Bel, Moo,\n",
    "                                                                          Rob, Cir, Nor, Bella, Hug]})\n",
    "ax = df_2.plot.bar(x='Make of Plane', y='Proportion Fatal (%)', rot=90, title = 'Proportion of Fatal Accidents per Make')"
   ]
  },
  {
   "cell_type": "markdown",
   "id": "603bb4ff",
   "metadata": {},
   "source": [
    "This graph shows the proportions of fatal accidents per make of airplane. Since the previous EDA showed that Cessna planes \n",
    "were much more common, it was essential to find the proportion of airplanes and compare it the percent of fatality.\n",
    "This shows that Cirrus Desich Corp and North American, proportionally, have the most fatal accidents in this dataset."
   ]
  },
  {
   "cell_type": "code",
   "execution_count": null,
   "id": "53cdb348",
   "metadata": {
    "scrolled": true
   },
   "outputs": [],
   "source": [
    "unpickled.head()"
   ]
  },
  {
   "cell_type": "code",
   "execution_count": null,
   "id": "38236698",
   "metadata": {},
   "outputs": [],
   "source": [
    "#updated"
   ]
  },
  {
   "cell_type": "code",
   "execution_count": null,
   "id": "94a6bd12",
   "metadata": {},
   "outputs": [],
   "source": [
    "unpickled.head()"
   ]
  },
  {
   "cell_type": "code",
   "execution_count": null,
   "id": "fadd2987",
   "metadata": {},
   "outputs": [],
   "source": []
  }
 ],
 "metadata": {
  "kernelspec": {
   "display_name": "Python 3 (ipykernel)",
   "language": "python",
   "name": "python3"
  },
  "language_info": {
   "codemirror_mode": {
    "name": "ipython",
    "version": 3
   },
   "file_extension": ".py",
   "mimetype": "text/x-python",
   "name": "python",
   "nbconvert_exporter": "python",
   "pygments_lexer": "ipython3",
   "version": "3.9.13"
  }
 },
 "nbformat": 4,
 "nbformat_minor": 5
}
